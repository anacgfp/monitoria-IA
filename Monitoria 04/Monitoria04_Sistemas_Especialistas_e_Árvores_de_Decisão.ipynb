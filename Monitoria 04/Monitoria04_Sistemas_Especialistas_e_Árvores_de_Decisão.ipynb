{
  "nbformat": 4,
  "nbformat_minor": 0,
  "metadata": {
    "colab": {
      "name": "Monitoria04 - Sistemas Especialistas e Árvores de Decisão.ipynb",
      "provenance": [],
      "collapsed_sections": []
    },
    "kernelspec": {
      "name": "python3",
      "display_name": "Python 3"
    }
  },
  "cells": [
    {
      "cell_type": "markdown",
      "metadata": {
        "id": "HXeRx-mNYBeq"
      },
      "source": [
        "#Monitoria 04: Sistemas Especialistas e Árvores de Decisão\r\n",
        "\r\n",
        "Autores: Hugo Amorim - 2020.3 (haan2@ecomp.poli.br), Ana Catarina Fonseca - 2020.1\r\n",
        "\r\n",
        "Duvidas: acgfp@ecomp.poli.br\r\n",
        "\r\n",
        "Este documento foi criado para a disciplina de Inteligencia Artificial do curso de Engenharia da Computação da UPE, ministrada pelo Prof. Fernando Buarque. "
      ]
    },
    {
      "cell_type": "markdown",
      "metadata": {
        "id": "OG4h62vMUpoa"
      },
      "source": [
        "#Sistema especialista baseado em regras\r\n",
        "\r\n",
        "São aplicações que têm por objetivo resolver problemas complexos de\r\n",
        "forma idêntica à utilizada pelos peritos humanos.\r\n",
        "\r\n",
        "O sistema especialista utiliza como referência uma base de conhecimento e tem diversas áreas de aplicação, como por exemplo: \r\n",
        "\r\n",
        "- **interpretação**: inferem descrições de situações a partir da observação de fatos\r\n",
        "- **diagnóstico**: inferir mal-funcionamentos de um sistemas a partir de observações\r\n",
        "- **planejamento**: desenvolvem-se sistemas capazes de responder à questão de como gerar um plano para resolver um dado problema\r\n",
        "- **controle**: o objetivo é dar ordens a um conjunto de entradas de modo a que um\r\n",
        "dispositivo ou sistema consiga cumprir adequadamente as suas funções\r\n",
        "\r\n",
        "etc..\r\n",
        "\r\n",
        "-> Faz inferências e deduções a partir de informações fornecidas pelo usuário\r\n",
        "\r\n",
        "SE - ENTÃO - SENÃO - QUANDO"
      ]
    },
    {
      "cell_type": "markdown",
      "metadata": {
        "id": "yMrrMxghBEcW"
      },
      "source": [
        "[EXPERT SINTA](https://www.cin.ufpe.br/~fab/expert-sinta/manual.pdf)"
      ]
    },
    {
      "cell_type": "markdown",
      "metadata": {
        "id": "mKW4C3P-Saxi"
      },
      "source": [
        "cabeca doi igual verdadeiro entao dor de cabeca\r\n",
        "\r\n",
        "moleza igual verdadeiro entao cansaco\r\n",
        "\r\n",
        "febre igual verdadeiro & cansaco igual verdadeiro entao dengue\r\n",
        "\r\n",
        "febre igual verdadeiro & dor de cabeca igual verdadeiro entao gripe\r\n",
        "\r\n",
        "febre igual falso & dor de cabeca igual verdadeiro entao enxaqueca\r\n",
        "\r\n",
        "febre igual verdadeiro & dor de cabeca igual verdadeiro & falta de ar igual verdadeiro entao covid19\r\n",
        "\r\n",
        "temperatura maior ou igual 38 entao febre\r\n"
      ]
    },
    {
      "cell_type": "code",
      "metadata": {
        "id": "RPUyH_8pXRYA",
        "colab": {
          "resources": {
            "http://localhost:8080/nbextensions/google.colab/files.js": {
              "data": "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",
              "ok": true,
              "headers": [
                [
                  "content-type",
                  "application/javascript"
                ]
              ],
              "status": 200,
              "status_text": ""
            }
          },
          "base_uri": "https://localhost:8080/",
          "height": 111
        },
        "outputId": "3885a161-143a-49fe-f4d6-d77b70a57ce0"
      },
      "source": [
        "# Codigo utilizado para importar aquivos\r\n",
        "from google.colab import files\r\n",
        "Arquivos = files.upload()\r\n",
        "\r\n",
        "# Organizando as informações do arquivos em variaveis\r\n",
        "regras = Arquivos['regras'].decode(\"utf-8\").split(\"\\n\")\r\n",
        "print(regras)"
      ],
      "execution_count": 1,
      "outputs": [
        {
          "output_type": "display_data",
          "data": {
            "text/html": [
              "\n",
              "     <input type=\"file\" id=\"files-8cedb25f-8bd1-4f5e-ba5c-5539899c1938\" name=\"files[]\" multiple disabled\n",
              "        style=\"border:none\" />\n",
              "     <output id=\"result-8cedb25f-8bd1-4f5e-ba5c-5539899c1938\">\n",
              "      Upload widget is only available when the cell has been executed in the\n",
              "      current browser session. Please rerun this cell to enable.\n",
              "      </output>\n",
              "      <script src=\"/nbextensions/google.colab/files.js\"></script> "
            ],
            "text/plain": [
              "<IPython.core.display.HTML object>"
            ]
          },
          "metadata": {
            "tags": []
          }
        },
        {
          "output_type": "stream",
          "text": [
            "Saving regras to regras\n",
            "['cabeca doi igual verdadeiro entao dor de cabeca', 'moleza igual verdadeiro entao cansaco', 'febre igual verdadeiro & cansaco igual verdadeiro entao dengue', 'febre igual verdadeiro & dor de cabeca igual verdadeiro entao gripe', 'febre igual falso & dor de cabeca igual verdadeiro entao enxaqueca', 'febre igual verdadeiro & dor de cabeca igual verdadeiro & falta de ar igual verdadeiro entao covid19', 'temperatura maior ou igual 38 entao febre', '']\n"
          ],
          "name": "stdout"
        }
      ]
    },
    {
      "cell_type": "code",
      "metadata": {
        "id": "bmW61h0BXS5q",
        "colab": {
          "base_uri": "https://localhost:8080/"
        },
        "outputId": "cac9b9bc-b11c-476e-9024-623cd6fb7aec"
      },
      "source": [
        "#@title Verificar sintomas\r\n",
        "Temperatura =  38.8#@param {type:\"number\"}\r\n",
        "cabeca_dor = False #@param {type:\"boolean\"}\r\n",
        "moleza = False #@param {type:\"boolean\"}\r\n",
        "falta_de_ar = False #@param {type:\"boolean\"}\r\n",
        "a = dasçldj\r\n",
        "\r\n",
        "def ler_regras():\r\n",
        "  lista_de_regras = []\r\n",
        "  for regra in regras:\r\n",
        "    regra_i = []\r\n",
        "    if regra != '':\r\n",
        "\t    #Separa a regra em premissas (antes do então) e conclusões (depois do então)\r\n",
        "      premissas, conclusoes = regra.split('entao')\r\n",
        "\t    #Cria uma lista com as conclusões sem espaço\r\n",
        "      regra_i.append(conclusoes.replace(\" \", \"\"))\r\n",
        "\t    #Anda pela lista de premissas. Se tiver &, são premissas compostas\r\n",
        "      for premissa in premissas.split('&'):\r\n",
        "        regra_j = [] #Lista pra cada premissa\r\n",
        "        if premissa != '':\r\n",
        "          if 'diferente de' in premissa:\r\n",
        "\t\t\t      #Aqui a gente divide o que tem antes e depois de \"diferente de\", ou seja, a condição\r\n",
        "            variavel = premissa.split('diferente de')[0].replace(\" \", \"\")\r\n",
        "            valor = premissa.split('diferente de')[1].replace(\" \", \"\")\r\n",
        "            regra_j.append(variavel)\r\n",
        "            regra_j.append('diferente')\r\n",
        "            regra_j.append(valor)\r\n",
        "          elif 'igual' in regra: #se tiver um igual em i\r\n",
        "            if 'maior' in regra:\r\n",
        "              variavel = premissa.split('maior ou igual')[0].replace(\" \", \"\")\r\n",
        "              valor = premissa.split('maior ou igual')[1].replace(\" \", \"\")\r\n",
        "              regra_j.append(variavel)\r\n",
        "              regra_j.append('maior ou igual')\r\n",
        "            elif 'menor' in regra:\r\n",
        "              variavel = premissa.split('menor ou igual')[0].replace(\" \", \"\")\r\n",
        "              valor = premissa.split('menor ou igual')[1].replace(\" \", \"\")\r\n",
        "              regra_j.append(variavel)\r\n",
        "              regra_j.append('menor ou igual')\r\n",
        "            else:\r\n",
        "              variavel = premissa.split('igual')[0].replace(\" \", \"\")\r\n",
        "              valor = premissa.split('igual')[1].replace(\" \", \"\")\r\n",
        "              regra_j.append(variavel)\r\n",
        "              regra_j.append('igual')\r\n",
        "            regra_j.append(valor)\r\n",
        "          else:\r\n",
        "            print(\"Condicional invalida, favor utilize 'igual' ou 'diferente de'\")\r\n",
        "          regra_i.append(regra_j) #regra_i = ['febre', ['temperatura', 'maior ou igual', '38']]\r\n",
        "      lista_de_regras.append(regra_i)\r\n",
        "  return lista_de_regras\r\n",
        "\r\n",
        "# Função que le as regras e retorna uma lista de verificações que serão feitas \r\n",
        "# nos dados\r\n",
        "def verificar_regras(conclusoes, variaveis_de_entrada, regra_avaliada, \r\n",
        "                     regras_completo):\r\n",
        "\r\n",
        "  n_condicoes_aceitas = 0 #Numero de condições aceitas\r\n",
        "  ja_contem_conclusao = False\r\n",
        "  for conclusao in conclusoes:\r\n",
        "    if conclusao[0] == regra_avaliada[0]: #Verifica se aquela conclusão já foi verificada, para evitar a rechecagem\r\n",
        "      ja_contem_conclusao  = True\r\n",
        "\r\n",
        "  if not ja_contem_conclusao: #se a conclusão não foi avaliada ainda\r\n",
        "    for condicao in regra_avaliada[1:]: #para cada condicional da regra que está sendo avaliada\r\n",
        "      #o formato da condição é do tipo ['febre', 'igual', 'verdadeiro']\r\n",
        "      entrada = condicao[0]\r\n",
        "      condicional = condicao[1]\r\n",
        "      saida = condicao[2]\r\n",
        "    \r\n",
        "      # transformar linguagem natural em codigo\r\n",
        "      if saida == 'verdadeiro':\r\n",
        "        saida = True\r\n",
        "      if saida == 'falso':\r\n",
        "        saida = False\r\n",
        "\r\n",
        "      # verifica se o parametro esta nas variaveis de entrada (o dicionário mapeando os nomes no texto com as variáveis recebidas no form)\r\n",
        "      if entrada in variaveis_de_entrada:\r\n",
        "\r\n",
        "        # transformar condicionais em linguagem natural em ifs e incremento o contador de condições aceitas\r\n",
        "        if condicional == 'maior ou igual':\r\n",
        "          if variaveis_de_entrada[entrada] >= float(saida):\r\n",
        "            n_condicoes_aceitas += 1\r\n",
        "        elif condicional == 'menor ou igual':\r\n",
        "          if variaveis_de_entrada[entrada] <= float(saida):\r\n",
        "            n_condicoes_aceitas += 1\r\n",
        "        elif condicional == 'igual':\r\n",
        "          if variaveis_de_entrada[entrada] == saida:\r\n",
        "            n_condicoes_aceitas += 1\r\n",
        "        elif condicional == 'diferente':\r\n",
        "          if variaveis_de_entrada[entrada] != saida:\r\n",
        "            n_condicoes_aceitas += 1\r\n",
        "        else:\r\n",
        "          print('Erro na operador, não foi identificado: ', condicional)\r\n",
        "\r\n",
        "      # verifica se o parametro esta nas conclusoes (alguma conclusão usa essa regra? tipo covid usa febre)\r\n",
        "      elif [entrada, True] in conclusoes:\r\n",
        "\r\n",
        "        # transformar condicionais em linguagem natural em ifs\r\n",
        "        if condicional == 'igual':\r\n",
        "          if saida: \r\n",
        "            n_condicoes_aceitas += 1\r\n",
        "        if condicional == 'diferente' :\r\n",
        "          if saida == False:\r\n",
        "            n_condicoes_aceitas += 1\r\n",
        "\r\n",
        "      elif [entrada, False] in conclusoes:\r\n",
        "        if condicional == 'igual':\r\n",
        "          if saida == False:\r\n",
        "            n_condicoes_aceitas += 1\r\n",
        "        if condicional == 'diferente' :\r\n",
        "          if saida: #falso é diferente de verdade kkk\r\n",
        "            n_condicoes_aceitas += 1 \r\n",
        "      \r\n",
        "      else:\r\n",
        "        for regra in regras_completo:\r\n",
        "          if regra[0] == entrada:\r\n",
        "            conclusoes = verificar_regras(conclusoes, variaveis_de_entrada, regra, \r\n",
        "                     regras_completo)\r\n",
        "            # reverifica as conclusoes\r\n",
        "            if [entrada, True] in conclusoes:\r\n",
        "              # transformar condicionais em linguagem natural em ifs\r\n",
        "              if condicional == 'igual':\r\n",
        "                if saida:\r\n",
        "                  n_condicoes_aceitas += 1\r\n",
        "              if condicional == 'diferente' :\r\n",
        "                if saida == False:\r\n",
        "                  n_condicoes_aceitas += 1\r\n",
        "\r\n",
        "            elif [entrada, False] in conclusoes:\r\n",
        "              if condicional == 'igual':\r\n",
        "                if saida == False:\r\n",
        "                  n_condicoes_aceitas += 1\r\n",
        "              if condicional == 'diferente' :\r\n",
        "                if saida:\r\n",
        "                  n_condicoes_aceitas += 1 \r\n",
        "            break\r\n",
        "        else:\r\n",
        "          print('Entrada nao encontrada: ', entrada)\r\n",
        "\r\n",
        "      # verifica se todas as condições foram cumpridas\r\n",
        "      if n_condicoes_aceitas == (len(regra_avaliada)-1):\r\n",
        "        conclusoes.append([regra_avaliada[0], True])\r\n",
        "    for i in conclusoes: #for - else\r\n",
        "      if i[0] == regra_avaliada[0]: #se minha regra q eu to avaliado ja esta em conclusoes, retorna conclusoes.\r\n",
        "        return conclusoes\r\n",
        "    else:\r\n",
        "      #senao minha regra nao esta nas conclusoes e portanto eh falsa\r\n",
        "      conclusoes.append([regra_avaliada[0], False])\r\n",
        "      return conclusoes\r\n",
        "  return conclusoes\r\n",
        "\r\n",
        "# Função que verifica a saida\r\n",
        "def verificar_dados():\r\n",
        "  regras_organizadas = ler_regras()\r\n",
        "  variaveis_de_entrada = {\r\n",
        "      'temperatura': Temperatura,\r\n",
        "      'cabecadoi': cabeca_dor,\r\n",
        "      'moleza': moleza,\r\n",
        "      'faltadear': falta_de_ar\r\n",
        "      }\r\n",
        "\r\n",
        "  conclusoes = [] \r\n",
        "  for regra_avaliada in regras_organizadas:\r\n",
        "    conclusoes = verificar_regras(conclusoes, variaveis_de_entrada, regra_avaliada, \r\n",
        "                     regras_organizadas)\r\n",
        "  return conclusoes\r\n",
        "\r\n",
        "        \r\n",
        "for i in verificar_dados():\r\n",
        "  \r\n",
        "  if i[1]:\r\n",
        "    print(\"Com as informações dadas, conclui-se que é possível que seja: \", i[0], \".\")"
      ],
      "execution_count": 6,
      "outputs": [
        {
          "output_type": "stream",
          "text": [
            "Com as informações dadas, conclui-se que é possível que seja:  febre .\n"
          ],
          "name": "stdout"
        }
      ]
    },
    {
      "cell_type": "markdown",
      "metadata": {
        "id": "vrfPldRvXar5"
      },
      "source": [
        "#Árvore de Decisão\r\n",
        "\r\n",
        "\r\n",
        "Utilizando uma base de dados e calculos estatisticos o algoritmo define quais os melhores parametros para a raiz e os nós. Uma das possiveis equações utilizadas para definir os nós é:\r\n",
        "\r\n",
        "$ Gini = 1 - \\sum\\limits_{i=0}^{c-1} \\left(p(i)\\right)^{2} $\r\n",
        "\r\n",
        "Onde:\r\n",
        "\r\n",
        "*   $c$ = Número de elementos\r\n",
        "*   $i$ = Elemento $i$\r\n",
        "*   $p(i)$ = Probabilidade de $i$\r\n",
        "\r\n",
        "Passo-a-passo:\r\n",
        "\r\n",
        "Entradas: **A e B**\r\n",
        "\r\n",
        "Saida: **d**\r\n",
        "\r\n",
        "A | B | d\r\n",
        "--- | --- | ---\r\n",
        "T | F | +\r\n",
        "T | T | +\r\n",
        "T | T | +\r\n",
        "T | F | -\r\n",
        "T | T | +\r\n",
        "F | F | -\r\n",
        "F | F | -\r\n",
        "F | F | -\r\n",
        "T | T | -\r\n",
        "T | F | -\r\n",
        "\r\n",
        "**1. A partir dos dados criamos as tabelas de frequencia:**\r\n",
        "\r\n",
        "d | A = T | A = F\r\n",
        "--- | :-: | :-:\r\n",
        "+ | 4 | 0 \r\n",
        "- | 3 | 3 \r\n",
        "\r\n",
        "d | B = T | B = F\r\n",
        "--- | :-: | :-:\r\n",
        "+ | 3 | 1 \r\n",
        "- | 1 | 5 \r\n",
        "\r\n",
        "**2. Definimos o Gini da origem:**\r\n",
        "\r\n",
        "$G_{origem} = 1 - \\left (\\frac{4}{10}  \\right )^2 - \\left (\\frac{6}{10}  \\right )^2 = 0.48$ \r\n",
        "\r\n",
        "**3. Definimos o ganho de A**\r\n",
        "\r\n",
        "$G_{A=T} = 1 - \\left (\\frac{4}{7}  \\right )^2 - \\left (\\frac{3}{7}  \\right )^2 = 0.4898$ \r\n",
        "\r\n",
        "$G_{A=F} = 1 - \\left (\\frac{3}{3}  \\right )^2 - \\left (\\frac{0}{3}  \\right )^2 = 0$ \r\n",
        "\r\n",
        "$\\Delta_{A} = G_{origem} - \\frac{7}{10} G_{A=T} - \\frac{3}{10} G_{A=F} = 0.137$\r\n",
        "\r\n",
        "**4. Definimos o ganho de B**\r\n",
        "\r\n",
        "$G_{B=T} = 1 - \\left (\\frac{3}{4}  \\right )^2 - \\left (\\frac{1}{4}  \\right )^2 = 0.375$ \r\n",
        "\r\n",
        "$G_{B=F} = 1 - \\left (\\frac{1}{6}  \\right )^2 - \\left (\\frac{5}{6}  \\right )^2 = 0.2778$ \r\n",
        "\r\n",
        "$\\Delta_{B} = G_{origem} - \\frac{4}{10} G_{B=T} - \\frac{6}{10} G_{B=F} = 0.16332$\r\n",
        "\r\n",
        "**5. Comparamos os ganhos e escolhemos a melhor opção**\r\n",
        "\r\n",
        "Como $\\Delta_{B} > \\Delta_{A}$ utilizamos o vamor da entreda B como raiz\r\n",
        "\r\n",
        "**6. Separa a tabela em B=f e B=t e refazer o processo até que todas as entradas sejam avaliadas**\r\n",
        "\r\n",
        "\r\n",
        "\r\n",
        "![arvore_de_decisao.gif](data:image/gif;base64,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)"
      ]
    },
    {
      "cell_type": "code",
      "metadata": {
        "id": "FkfnWB6mXdkf"
      },
      "source": [
        "# Dados de entrada para arvore de decisao\r\n",
        "\r\n",
        "entrada_a = [True, True, True, True, True, False, False, False, True, True]\r\n",
        "entrada_b = [False, True, True, False, True, False, False, False, True, False]\r\n",
        "saida = ['+', '+', '+', '-', '+', '-', '-', '-', '-', '-']\r\n",
        "\r\n",
        "possiveis_entradas = [True, False]\r\n",
        "possiveis_saidas = ['+', '-'] #classes"
      ],
      "execution_count": 11,
      "outputs": []
    },
    {
      "cell_type": "code",
      "metadata": {
        "id": "gyrJFPy3XjiC",
        "colab": {
          "base_uri": "https://localhost:8080/"
        },
        "outputId": "cd11c5e2-63d1-4e99-8a0d-a64e2da448d3"
      },
      "source": [
        "# Implementação de uma arvore binaria\r\n",
        "\r\n",
        "class Arvore:\r\n",
        "  def __init__(self, valor):\r\n",
        "    self.valor = valor\r\n",
        "    self.arvore_esquerda = 0\r\n",
        "    self.arvore_direita = 0\r\n",
        "  \r\n",
        "\r\n",
        "# Calcular Gini\r\n",
        "\r\n",
        "#saidas e classes\r\n",
        "def gini_origem(saidas, possibilidades):\r\n",
        "  quantidade_de_cada_saida = [0]*len(possibilidades)\r\n",
        "  #faz a contagem\r\n",
        "  for i in saidas:\r\n",
        "    for j in range(0, len(possibilidades)): #para cada classe\r\n",
        "      if i == possibilidades[j]:\r\n",
        "        quantidade_de_cada_saida[j] += 1\r\n",
        "\r\n",
        "  gini = 1\r\n",
        "  for i in quantidade_de_cada_saida:\r\n",
        "    gini -= (i/len(saidas))**2\r\n",
        "\r\n",
        "  return gini\r\n",
        "\r\n",
        "def ganho_entrada(entrada, possiveis_entradas, saidas, possiveis_saidas):\r\n",
        "  quantidade_de_cada_saida = [0]*len(possiveis_entradas)*len(possiveis_saidas)\r\n",
        "\r\n",
        "  \r\n",
        "  for index, i in enumerate(entrada):\r\n",
        "    for index_entrada, k in enumerate(possiveis_entradas):\r\n",
        "      if i == k:\r\n",
        "        for index_saida, j in enumerate(possiveis_saidas):\r\n",
        "          if saidas[index] == j: # a saida q corresponde a entrada\r\n",
        "            quantidade_de_cada_saida[index_entrada*len(possiveis_saidas) + index_saida] += 1\r\n",
        "  \r\n",
        "  # quantidade_de_cada_saida = [4, 3, 0, 3] p/ A, [3, 1, 1, 5] p/ B (tabela de frequencias)\r\n",
        "\r\n",
        "\r\n",
        "  #calculo do ganho:\r\n",
        "  gini = [1, 0]*len(possiveis_entradas) # para cada combinação de entrada - classe, o conjunto de gini e total, pra calcular a media ponderada\r\n",
        "  indice = 0\r\n",
        "  for i in range(0, len(quantidade_de_cada_saida), len(possiveis_saidas)): #step =2\r\n",
        "    total = 0\r\n",
        "    for j in range(0, len(possiveis_saidas)): #pra cada classe\r\n",
        "      gini[indice*2 + 1] += quantidade_de_cada_saida[i + j]\r\n",
        "    for j in range(0, len(possiveis_saidas)):\r\n",
        "      gini[indice*2] -= (quantidade_de_cada_saida[i + j]/gini[indice*2 + 1])**2\r\n",
        "    indice += 1\r\n",
        "\r\n",
        "  ganho = gini_origem(saida, possiveis_saidas)\r\n",
        "  #faz o delta\r\n",
        "  for i in range(0, int(len(gini)/2)):\r\n",
        "    ganho -= gini[2*i] * (gini[2*i + 1]/len(entrada))\r\n",
        "  return ganho\r\n",
        "\r\n",
        "origem = gini_origem(saida, possiveis_saidas)\r\n",
        "ganho_a = ganho_entrada(entrada_a, possiveis_entradas, saida, possiveis_saidas)\r\n",
        "ganho_b = ganho_entrada(entrada_b, possiveis_entradas, saida, possiveis_saidas)\r\n",
        "\r\n",
        "print('Gini Origem: ', origem)\r\n",
        "print('Ganho usando entrada A como raiz: ', ganho_a)\r\n",
        "print('Ganho usando entrada B como raiz: ', ganho_b)\r\n"
      ],
      "execution_count": 12,
      "outputs": [
        {
          "output_type": "stream",
          "text": [
            "Gini Origem:  0.48\n",
            "Ganho usando entrada A como raiz:  0.13714285714285707\n",
            "Ganho usando entrada B como raiz:  0.16333333333333336\n"
          ],
          "name": "stdout"
        }
      ]
    },
    {
      "cell_type": "code",
      "metadata": {
        "id": "Na7UOk6BXolJ",
        "colab": {
          "base_uri": "https://localhost:8080/"
        },
        "outputId": "dc478732-82d7-48f4-c1fe-264bfa6c3c1c"
      },
      "source": [
        "# Biblioteca que utilizo para verificar se uma variavel é uma classe ou não\r\n",
        "import inspect\r\n",
        "inspect.isclass(Arvore)\r\n",
        "\r\n",
        "\r\n",
        "# Uma vez definido uma raiz podemos repetir a operação removendo a verificação \r\n",
        "# da raiz\r\n",
        "\r\n",
        "entrada_a_caso_b_verdadeiro = [True, True, True, True]\r\n",
        "saida_caso_b_verdadeiro = ['+', '+', '+', '-']\r\n",
        "# Como os valores de A foram iguais em todos os casos não precisamos verificar \r\n",
        "# seu valor, e como a saida tem a maioria '+' iremos colocar o valor de '+' \r\n",
        "# nessa folha  \r\n",
        "\r\n",
        "entrada_a_caso_b_falso = [True, True, False, False, False, True]\r\n",
        "saida_caso_b_falso = ['+',  '-', '-', '-', '-', '-']\r\n",
        "# Nesse caso varificamos que quando A é falso a saida é sempre '-' e que quando \r\n",
        "# A é verdadeiro a saida é '-' na maioria dos casos, por isso não precisamos \r\n",
        "# verificar seu valor e podemos colocar o valor de '-' nessa folha\r\n",
        "\r\n",
        "# Teste - fazendo a classificacao\r\n",
        "entrada_a = [['A', False], ['B', True]]\r\n",
        "entrada_b = [['A', False], ['B', False]]\r\n",
        "\r\n",
        "def verificar_entrada(entrada):\r\n",
        "  # Criando a arvore\r\n",
        "  arvore_de_decisao = Arvore('B')\r\n",
        "  # Irei usar aqui direita = False e esquerda = True\r\n",
        "  arvore_de_decisao.arvore_esquerda = '-'\r\n",
        "  arvore_de_decisao.arvore_direita = '+'\r\n",
        "\r\n",
        "\r\n",
        "  while(True):\r\n",
        "    for i in entrada:\r\n",
        "      if arvore_de_decisao.valor == i[0]:\r\n",
        "        if i[1]:\r\n",
        "          arvore_de_decisao = arvore_de_decisao.arvore_esquerda\r\n",
        "        else:\r\n",
        "          arvore_de_decisao = arvore_de_decisao.arvore_direita\r\n",
        "        break\r\n",
        "    if not isinstance(arvore_de_decisao, Arvore): #para qndo encontra uma folha (q nao eh instancia de arvore)\r\n",
        "      print('Saida de: ', entrada, ' = ', arvore_de_decisao)\r\n",
        "      break\r\n",
        "\r\n",
        "\r\n",
        "verificar_entrada(entrada_a)\r\n",
        "verificar_entrada(entrada_b)"
      ],
      "execution_count": 13,
      "outputs": [
        {
          "output_type": "stream",
          "text": [
            "Saida de:  [['A', False], ['B', True]]  =  -\n",
            "Saida de:  [['A', False], ['B', False]]  =  +\n"
          ],
          "name": "stdout"
        }
      ]
    }
  ]
}