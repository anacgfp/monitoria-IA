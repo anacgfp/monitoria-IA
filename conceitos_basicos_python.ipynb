{
  "nbformat": 4,
  "nbformat_minor": 0,
  "metadata": {
    "colab": {
      "name": "conceitos_basicos_python.ipynb",
      "provenance": [],
      "collapsed_sections": []
    },
    "kernelspec": {
      "name": "python3",
      "display_name": "Python 3"
    }
  },
  "cells": [
    {
      "cell_type": "markdown",
      "metadata": {
        "id": "CpkIIZUazeZw"
      },
      "source": [
        "#Resumo e exemplos de Python\r\n",
        "Autores:  Hugo Amorim - 2020.3 (haan2@ecomp.poli.br), \r\n",
        "Ana Catarina Fonseca - 2020.1\r\n",
        "\r\n",
        "\r\n",
        "Duvidas: acgfp@ecomp.poli.br\r\n",
        "\r\n",
        "Este trabalho foi criado para a disciplina de Inteligencia Artificial do curso\r\n",
        "de Engenharia da Computação da UPE, ministrada pelo Prof. Fernando Buarque.\r\n",
        "E tem como objetivo ensinar e exemplificar o uso basico do python e de algumas\r\n",
        "bibliotecas para serem utilizadas durante a disciplina.\r\n",
        "\r\n",
        "Foi inicialmente elaborado pelo monitor do período 2020.3 (Hugo Amorim) e refatorado no semestre 2020.1 (em 2021) por Ana Catarina.\r\n",
        "\r\n",
        " **Referências Online**\r\n",
        "\r\n",
        "[Curso de Computação Científica com Python](https://www.freecodecamp.org/learn)\r\n",
        "\r\n",
        "[W3 Schools](https://www.w3schools.com/python/)\r\n",
        "\r\n",
        "[Documentação Oficial](https://docs.python.org/3/)\r\n",
        "\r\n",
        "[Curso Rápido de Python](https://www.youtube.com/watch?v=oUrBHiT-lzo&ab_channel=Cod3rCursos)\r\n",
        "\r\n",
        "[Intro. à C.C. com Python](https://www.youtube.com/playlist?list=PLcoJJSvnDgcKpOi_UeneTNTIVOigRQwcn)\r\n",
        "\r\n",
        "[Python Cheatsheet](https://www.pythoncheatsheet.org/)\r\n",
        "\r\n",
        "[Curso da Microsoft](https://docs.microsoft.com/pt-br/learn/modules/intro-to-python/)\r\n",
        "\r\n",
        "[Curso do SoloLearn](https://www.sololearn.com/learning/1073)"
      ]
    },
    {
      "cell_type": "markdown",
      "metadata": {
        "id": "bwgcxruDppeh"
      },
      "source": [
        "**Importando bibliotecas**\n",
        "\n",
        "\n",
        "\n"
      ]
    },
    {
      "cell_type": "code",
      "metadata": {
        "id": "k20nhXo4pmnr"
      },
      "source": [
        "import random as rd\n",
        "import math"
      ],
      "execution_count": 15,
      "outputs": []
    },
    {
      "cell_type": "markdown",
      "metadata": {
        "id": "V5ToLy9cp8BU"
      },
      "source": [
        "**Definições de Variaveis**\n",
        "\n",
        "Python é uma linguagem de tipagem forte e dinâmica. O que quer dizer que ao definir um valor para uma variável, a linguagem infere um tipo. \n",
        "\n",
        "Você pode alterar o tipo de uma variável durante a execução do código e o Python não lançará nenhuma Exception.\n",
        "\n",
        "Linguagens de tipagem fraca: permitem que você faça algumas operações, sem a necessidade da realização do cast\n",
        "\n"
      ]
    },
    {
      "cell_type": "code",
      "metadata": {
        "id": "nUCUaffcp_Pl"
      },
      "source": [
        "nome = 'Hugo' #Uma string\n",
        "idade = 10  #Um int\n",
        "gold = 23.1 #Um float\n",
        "\n",
        "print(str(type(nome)))\n",
        "print(str(type(idade)))\n",
        "print(str(type(gold)))\n",
        "\n",
        "#Troca valor de nome para um inteiro, e a linguagem infere esse tipo.\n",
        "nome = 12\n",
        "\n",
        "print(str(type(nome)))\n",
        "\n",
        "# No Python o usuario não precisa dizer o tipo de variavel, a ferramenta ja faz \n",
        "# essa inferencia ela mesma. Isso deixa o codigo mais limpo, no entanto aumenta \n",
        "# a possibilidade de erros humanos, sempre tome cuidado para nao tratar uma \n",
        "# string como um numero ou algo semelhante"
      ],
      "execution_count": null,
      "outputs": []
    },
    {
      "cell_type": "code",
      "metadata": {
        "id": "GYYjo-3xuDHl"
      },
      "source": [
        "nome = '11'\n",
        "print(1 + nome)"
      ],
      "execution_count": null,
      "outputs": []
    },
    {
      "cell_type": "markdown",
      "metadata": {
        "id": "FR2pxj-Fuc_h"
      },
      "source": [
        "**Arrays e Listas**"
      ]
    },
    {
      "cell_type": "code",
      "metadata": {
        "id": "-juVsZs6uLX0"
      },
      "source": [
        "comidas = ['sushi', 'pizza', 'risotto']\n",
        "lista_de_listas = [[1,2,3], [2,3,4], [3,4,5]]\n",
        "lista_de_zeros = [0] * 5\n",
        "validacao = 50 >= idade\n",
        "\n",
        "print(lista_de_zeros)\n",
        "print(validacao)"
      ],
      "execution_count": null,
      "outputs": []
    },
    {
      "cell_type": "markdown",
      "metadata": {
        "id": "knIr-oEewk57"
      },
      "source": [
        "**Operadores de Comparação**\n",
        "\n",
        "A == B -> verifica se A e B são iguais\n",
        "\n",
        "A != B -> verifica se A e B são diferentes\n",
        "\n",
        "A < B  -> verifica se A é menor que B\n",
        "\n",
        "A > B  -> verifica se A é maior que B\n",
        "\n",
        "A <= B -> verifica se A é menor ou igual a B\n",
        "\n",
        "A >= B -> verifica se A é maior ou igual a B\n",
        "\n",
        "+ Operações:\n",
        "\n",
        "soma:             +\n",
        "\n",
        "subtração:        -\n",
        "\n",
        "multiplicação:    *\n",
        "\n",
        "divisão:          /\n",
        "\n",
        "resto de divisão: %\n",
        "\n",
        "exponenciação:    **\n",
        "\n",
        "+ Funções Úteis:\n",
        "\n",
        "len( x ) -> retorna o tamanho de uma lista x\n",
        "\n",
        "str( y ) -> retorna a variavel y transformada numa string\n",
        "\n",
        "float( z ) -> retorna a variavel z na forma de float\n",
        "\n",
        "int( z ) -> retorna a variavel z na forma de int\n"
      ]
    },
    {
      "cell_type": "markdown",
      "metadata": {
        "id": "TUzHgazl91Fh"
      },
      "source": [
        "**Comandos Condicionais**\n",
        "\n",
        "and -> ver se multiplas verificações são validas\n",
        "\n",
        "or -> ver se alguma verificação é valida\n",
        "\n",
        "not -> ver se a verificação é invalida"
      ]
    },
    {
      "cell_type": "code",
      "metadata": {
        "id": "EX6aESXA_V-r"
      },
      "source": [
        "if True:\n",
        "  print(True)\n",
        "\n",
        "if validacao:\n",
        "  print('Voce tem menos de 50 anos')\n",
        "else:\n",
        "  print('Voce tem mais de 50 anos')\n",
        "\n",
        "if idade < 40:\n",
        "  print('Voce tem menos de 40 anos')\n",
        "elif idade > 60 and idade < 70:\n",
        "  print('Voce tem mais de 60 e menos de 70 anos')\n",
        "\n"
      ],
      "execution_count": null,
      "outputs": []
    },
    {
      "cell_type": "markdown",
      "metadata": {
        "id": "vNWiXWQD-WBy"
      },
      "source": [
        "**Comandos de Repetição**\n",
        "\n",
        "for, while"
      ]
    },
    {
      "cell_type": "code",
      "metadata": {
        "id": "xSF3yHWD-aeH"
      },
      "source": [
        "for i in range(4, 8):\n",
        "  print(i)\n",
        "  if i == 6:\n",
        "    break\n",
        "\n",
        "for i in comidas:\n",
        "  print(i)\n",
        "\n",
        "i = 0\n",
        "while i < 5:\n",
        "  print(i)\n",
        "  i += 1"
      ],
      "execution_count": null,
      "outputs": []
    },
    {
      "cell_type": "markdown",
      "metadata": {
        "id": "cO_bzeJAZobw"
      },
      "source": [
        "**Dicionários**\n",
        "\n",
        "Tipo de mapeamento nativo do python. É da forma { chave: valor }"
      ]
    },
    {
      "cell_type": "code",
      "metadata": {
        "id": "GuKlEwYmZn3B"
      },
      "source": [
        "#Formas de criar dicionários\n",
        "#Forma 1\n",
        "dicionario_frutas = {\n",
        "    1: \"banana\",\n",
        "    2: \"maca\",\n",
        "    3: \"melancia\",\n",
        "    4: \"pera\"\n",
        "}\n",
        "\n",
        "#Forma 2\n",
        "dicionario_animais = {}\n",
        "dicionario_animais[1] = \"javali\"\n",
        "dicionario_animais[2] = \"ornitorrinco\"\n",
        "dicionario_animais[3] = \"orangotango\"\n",
        "\n",
        "print(dicionario_animais[1])\n",
        "\n",
        "#Podemos atribuir valores aos itens do dicionário\n",
        "print(dicionario_frutas[1])\n",
        "dicionario_frutas[1] = \"melao\"\n",
        "print(dicionario_frutas[1])\n",
        "\n",
        "#Podemos percorrer o dicionario:\n",
        "for i in dicionario_frutas:\n",
        "  print (str(i) + \" \" + dicionario_frutas[i])\n",
        "\n",
        "#Tem também algumas funções úteis:\n",
        "dicionario_frutas.items()  \n",
        "dicionario_frutas.keys()   \n",
        "dicionario_frutas.values()"
      ],
      "execution_count": null,
      "outputs": []
    },
    {
      "cell_type": "markdown",
      "metadata": {
        "id": "kd7TVN8lcnWh"
      },
      "source": [
        "**Listas**\n",
        "\n",
        "Enquanto listas são mutáveis e podem ter objetos de tipos variados"
      ]
    },
    {
      "cell_type": "code",
      "metadata": {
        "id": "s2ekG2CgcwXN"
      },
      "source": [
        "#Listas se declaram com []\n",
        "\n",
        "algoritmos = ['Algoritmo Genético', 'FSS']\n",
        "print(\"Tipo: \" + str(type(algoritmos))) \n",
        "print(algoritmos)\n",
        "\n",
        "#Atribuindo valores a itens da lista:\n",
        "algoritmos[1] = 'PSO'\n",
        "print(algoritmos)\n",
        "\n",
        "#Funções Úteis:\n",
        "algoritmos.append('FSS')\n",
        "print(algoritmos)\n",
        "\n",
        "#Insere ACO na posição 1\n",
        "algoritmos.insert(1, 'ACO')\n",
        "print(algoritmos)\n",
        "\n",
        "algoritmos.remove('FSS')\n",
        "print(algoritmos)\n",
        "\n",
        "#Remove pelo indice\n",
        "algoritmos.pop(0)\n",
        "print(algoritmos)\n",
        "\n",
        "#Podem ter tipos mistos:\n",
        "\n",
        "player = [\"Ana Catarina\", 1, 1.1]\n",
        "print(player)"
      ],
      "execution_count": null,
      "outputs": []
    },
    {
      "cell_type": "markdown",
      "metadata": {
        "id": "wHHclDWEgwgU"
      },
      "source": [
        "**Tuplas**\n",
        "\n",
        "tuplas não são mutáveis"
      ]
    },
    {
      "cell_type": "code",
      "metadata": {
        "id": "AmiRwm0ffKVf"
      },
      "source": [
        "#Tuplas se declaram com ()\n",
        "\n",
        "animais = ('cachorro', 'gato', 'hamster')\n",
        "print(type(animais))\n",
        "print(animais)\n",
        "\n",
        "#acessando valores específicos - pelo indice:\n",
        "print(\"Animal preferido: \" + animais[0])\n",
        "\n",
        "#Vai gerar um erro:\n",
        "# animais[0] = 'minhoca'\n",
        "\n",
        "#Tuplas com um único item\n",
        "\n",
        "obj1 = ('minhoca')\n",
        "obj2 = ('minhoca',)\n",
        "\n",
        "print(type(obj1)) \n",
        "print(type(obj2))"
      ],
      "execution_count": null,
      "outputs": []
    },
    {
      "cell_type": "markdown",
      "metadata": {
        "id": "pcoYJRIE-xHH"
      },
      "source": [
        "**Funções**\n",
        "\n",
        "Definição e chamada"
      ]
    },
    {
      "cell_type": "code",
      "metadata": {
        "id": "i3JYtfVZ8H8h"
      },
      "source": [
        "#---Definindo funções\n",
        "def numero_aleatorio():\n",
        "  print(rd.random())\n",
        "\n",
        "def ano_de_nascimento(idade_funcao, ano_atual):\n",
        "  print(idade_funcao)\n",
        "  return ano_atual - idade_funcao\n",
        "\n",
        "#---Chamando Funções\n",
        "numero_aleatorio()\n",
        "ano_de_nascimento(22, 2021)"
      ],
      "execution_count": null,
      "outputs": []
    },
    {
      "cell_type": "markdown",
      "metadata": {
        "id": "-jLuW3IR-7Y3"
      },
      "source": [
        "**Classes**\n",
        "\n",
        "Definição, funções de classes, instanciação"
      ]
    },
    {
      "cell_type": "code",
      "metadata": {
        "id": "lLzVUszM1OMN"
      },
      "source": [
        "class NomeClasse:\n",
        "# Abaixo temos o construtor, onde definimos valores iniciais para a classe\n",
        "  def __init__(self, valor_de_referencia, outro_valor):\n",
        "    self.variavel_1 = [0] * valor_de_referencia\n",
        "    self.variavel_2 = outro_valor\n",
        "\n",
        "# Na linha abaixo temos uma funçao especifica dessa classe\n",
        "  def funcao_da_classe(self, variavel_qualquer):\n",
        "    for i in self.variavel_1:\n",
        "      i += variavel_qualquer\n",
        "      if i == 3:\n",
        "        break\n",
        "    else:\n",
        "      print(self.variavel_1)\n",
        "\n",
        "    for index, i in enumerate(self.variavel_1):\n",
        "      self.variavel_1[index] += variavel_qualquer\n",
        "    print(self.variavel_1)\n",
        "\n",
        "#--- utilizando a classe ---\n",
        "objeto_do_tipo_classe = NomeClasse(10, 5)\n",
        "objeto_do_tipo_classe.funcao_da_classe(5)\n",
        "print(objeto_do_tipo_classe.variavel_1)"
      ],
      "execution_count": null,
      "outputs": []
    },
    {
      "cell_type": "markdown",
      "metadata": {
        "id": "noske9CqB7Ra"
      },
      "source": [
        "**Lib random**\n",
        "\n",
        "Documentação: https://docs.python.org/3/library/random.html"
      ]
    },
    {
      "cell_type": "code",
      "metadata": {
        "id": "59LjcqEE1Qqv"
      },
      "source": [
        "a = rd.random() # retorna um valor aleatorio entre 0 e 1\n",
        "# \"eu quero um valor entre 0 e 100 e agora o que eu faço???\"\n",
        "a *= 100\n",
        "# \"mas eu nao quero entre 0 e 100 eu quero entre 25 e 120\"\n",
        "b = rd.random() * 95 + 25\n",
        "\n",
        "c = rd.randrange(10) # retorna um valor INTEIRO entre 0 e 10\n",
        "\n",
        "print(a)\n",
        "print(b)\n",
        "print(c)\n"
      ],
      "execution_count": null,
      "outputs": []
    },
    {
      "cell_type": "markdown",
      "metadata": {
        "id": "RRNP2XLlCKG7"
      },
      "source": [
        "**Lib Math**\n",
        "\n",
        "Documentação: https://docs.python.org/3/library/math.html"
      ]
    },
    {
      "cell_type": "code",
      "metadata": {
        "id": "8rpxYkSqCMVT"
      },
      "source": [
        "# min( x ) -> retorna o menor valor de uma lista x\n",
        "# max( x ) -> retorna o maior valor de uma lista x \n",
        "# pow(z,k) -> retorna z elevado a k\n",
        "# math.sqrt( z ) -> retorna a raiz quadrada do numero z\n",
        "# math.pi -> retorna o valor de pi\n",
        "\n",
        "lista_de_numeros = [1, 2, 3, 4, 5, 6, 7, 8, 9, -1]\n",
        "\n",
        "print('minimo: ' + str(min(lista_de_numeros))) # -1\n",
        "print('maximo: ' + str(max(lista_de_numeros))) # 9\n",
        "print('exponencial: ' + str(pow(max(lista_de_numeros), 3))) # 9 ^3\n",
        "print('raiz quadrada: ' + str(math.sqrt(max(lista_de_numeros)))) # 3.0\n",
        "print('pi: ' + str((math.pi))) # 3.14"
      ],
      "execution_count": null,
      "outputs": []
    },
    {
      "cell_type": "markdown",
      "metadata": {
        "id": "u3Um4tQdZQoO"
      },
      "source": [
        "**Matplotlib**\n",
        "\n",
        "Documentação: https://matplotlib.org/"
      ]
    },
    {
      "cell_type": "code",
      "metadata": {
        "id": "ntFSH1LGZdHJ"
      },
      "source": [
        "import matplotlib.pyplot as plt\n",
        "\n",
        "#Coordenadas x,y por exemplo\n",
        "x_list = [50,140,110,30,240,400,330,80,30,280]\n",
        "y_list = [60,78,55,108,378,128,256,15,20,12]\n",
        "\n",
        "#Mostra os pontos:\n",
        "plt.scatter(x_list, y_list)\n",
        "#Plota as linhas\n",
        "plt.plot(x_list, y_list)"
      ],
      "execution_count": null,
      "outputs": []
    },
    {
      "cell_type": "markdown",
      "metadata": {
        "id": "xO6AIoyLC_Kd"
      },
      "source": [
        "#Desafios\n",
        "\n",
        "1. Crie uma função que imprima todos os numeros impares de 0 a 100\n",
        "\n",
        "2. Crie uma função que recebe uma lista de valores inteiros e calcula a média de valores da lista\n",
        "\n",
        "3. Crie uma lista aleatoria com 20 numeros flutuantes entre 0 e 100\n",
        "\n",
        "\n",
        "4. Crie uma classe que tenha dois pontos(bidimensionais ou +) e que tenha uma função que calcule a distancia entre eles\n",
        "\n",
        "5. Crie uma função que pegue a lista da questão 3 e eleve os valores ao quadrado e se durante a execução um dos valores seja igual ou maior que 6000 pare a execução"
      ]
    },
    {
      "cell_type": "code",
      "metadata": {
        "id": "nqsLqwiJZrMW"
      },
      "source": [
        "def questao_1():\n",
        "  for i in range(0, 100):\n",
        "    if i % 2 == 1:\n",
        "      print(i)\n",
        "\n",
        "def questao_2(lista_inteiros):\n",
        "  media = 0\n",
        "  tamanho_lista = len(lista_inteiros)\n",
        "  for i in range(tamanho_lista):\n",
        "    media += lista_inteiros[i]\n",
        "  return media/tamanho_lista\n",
        "\n",
        "def questao_3():\n",
        "  lista_aleatoria = [0.0]*20\n",
        "  for i in range(0, 20):\n",
        "    lista_aleatoria[i] = rd.random()*100\n",
        "  return lista_aleatoria\n",
        "\n",
        "\n",
        "class questao_4:\n",
        "  def __init__(self, x1, x2, y1, y2):\n",
        "    self.ponto_1 = [x1, x2]\n",
        "    self.ponto_2 = [y1, y2]\n",
        "\n",
        "  def distancia(self):\n",
        "    print( math.sqrt((self.ponto_1[0] - self.ponto_2[0])**2 + \n",
        "                     (self.ponto_1[1] - self.ponto_2[1])**2))\n",
        "\n",
        "def questao_5():\n",
        "  lista_questao_3 = questao_3()\n",
        "  for index, i in enumerate(lista_questao_3):\n",
        "    lista_questao_3[index] = pow(i, 2)\n",
        "    print(\"Indice: \" + str(index))\n",
        "    print(\"Valor Inicial: \" + str(i))\n",
        "    print(\"Valor: \" + str(lista_questao_3[index]) + \"\\n\")\n",
        "    if lista_questao_3[index] >= 6000:\n",
        "      print(\"Valor acima do Permitido!! Abortar!\")\n",
        "      break\n",
        "\n",
        "# questao_1()\n",
        "# questao_2([1, 2, 3])\n",
        "# questao_3()\n",
        "# a = questao_4(0,0,3,4)\n",
        "# a.distancia()\n",
        "# questao_5()"
      ],
      "execution_count": 36,
      "outputs": []
    }
  ]
}